{
 "cells": [
  {
   "cell_type": "code",
   "execution_count": 1,
   "metadata": {
    "collapsed": false
   },
   "outputs": [],
   "source": [
    "from konlpy.utils import pprint\n",
    "import io\n",
    "\n",
    "def read_data(filename):\n",
    "    with io.open(filename, 'r', encoding = \"utf-8\" ) as f:\n",
    "        data = [line.split('\\t') for line in f.read().splitlines()]\n",
    "        data = data[1:]   # header 제외\n",
    "    return data\n",
    "\n",
    "train_data = read_data('ratings_train.txt')\n",
    "test_data = read_data('ratings_test.txt')"
   ]
  },
  {
   "cell_type": "code",
   "execution_count": 26,
   "metadata": {
    "collapsed": false
   },
   "outputs": [],
   "source": [
    "from konlpy.tag import Twitter\n",
    "\n",
    "pos_tagger = Twitter()\n",
    "\n",
    "def tokenize(doc):\n",
    "    # norm, stem은 optional\n",
    "    return ['/'.join(t) for t in pos_tagger.pos(doc, norm=True, stem=True)]\n",
    "\n",
    "def filterbyvalue(seq, value):\n",
    "    for el in seq:\n",
    "        if el.attribute == value: yield el\n",
    "\n",
    "train_docs = [(tokenize(row[1]), row[2]) for row in train_data]\n",
    "test_docs = [(tokenize(row[1]), row[2]) for row in test_data]\n",
    "\n",
    "train_docs_pos = [ x for x in train_docs if x[1] == '1' ]\n",
    "train_docs_neg = [ x for x in train_docs if x[1] == '0' ]"
   ]
  },
  {
   "cell_type": "code",
   "execution_count": 4,
   "metadata": {
    "collapsed": false
   },
   "outputs": [
    {
     "name": "stdout",
     "output_type": "stream",
     "text": [
      "74827\n",
      "75173\n",
      "([흠/Noun,\n",
      "  .../Punctuation,\n",
      "  포스터/Noun,\n",
      "  보고/Noun,\n",
      "  초딩/Noun,\n",
      "  영화/Noun,\n",
      "  줄/Noun,\n",
      "  ..../Punctuation,\n",
      "  오버/Noun,\n",
      "  연기/Noun,\n",
      "  조차/Josa,\n",
      "  가볍다/Adjective,\n",
      "  않다/Verb],\n",
      " 1)\n",
      "([아/Exclamation,\n",
      "  더빙/Noun,\n",
      "  ../Punctuation,\n",
      "  진짜/Noun,\n",
      "  짜증/Noun,\n",
      "  나다/Verb,\n",
      "  목소리/Noun],\n",
      " 0)\n",
      "([아/Exclamation,\n",
      "  더빙/Noun,\n",
      "  ../Punctuation,\n",
      "  진짜/Noun,\n",
      "  짜증/Noun,\n",
      "  나다/Verb,\n",
      "  목소리/Noun],\n",
      " 0)\n",
      "[9976970,\n",
      " 아 더빙.. 진짜 짜증나네요 목소리,\n",
      " 0]\n"
     ]
    }
   ],
   "source": [
    "# 잘 들어갔는지 확인\n",
    "print len( train_docs_pos )\n",
    "print len( train_docs_neg )\n",
    "pprint( train_docs_pos[0] )\n",
    "pprint( train_docs_neg[0] )\n",
    "pprint(train_docs[0])\n",
    "pprint( train_data[0] )"
   ]
  },
  {
   "cell_type": "code",
   "execution_count": 5,
   "metadata": {
    "collapsed": false
   },
   "outputs": [
    {
     "name": "stdout",
     "output_type": "stream",
     "text": [
      "2194536\n"
     ]
    }
   ],
   "source": [
    "tokens = [t for d in train_docs for t in d[0]]\n",
    "print(len(tokens))"
   ]
  },
  {
   "cell_type": "code",
   "execution_count": 39,
   "metadata": {
    "collapsed": false
   },
   "outputs": [
    {
     "name": "stdout",
     "output_type": "stream",
     "text": [
      "<Text: NMSC>\n"
     ]
    }
   ],
   "source": [
    "import nltk\n",
    "text = nltk.Text(tokens, name='NMSC')\n",
    "print(text)"
   ]
  },
  {
   "cell_type": "code",
   "execution_count": 7,
   "metadata": {
    "collapsed": false
   },
   "outputs": [],
   "source": [
    "# 여기서는 최빈도 단어 2000개를 피쳐로 사용\n",
    "# WARNING: 쉬운 이해를 위한 코드이며 time/memory efficient하지 않습니다\n",
    "selected_words = [f[0] for f in text.vocab().most_common(2000)]\n",
    "#selected_words = selected_words[ 50 : ]"
   ]
  },
  {
   "cell_type": "code",
   "execution_count": 8,
   "metadata": {
    "collapsed": false
   },
   "outputs": [],
   "source": [
    "def term_exists(doc):\n",
    "    return {u'exists({})'.format(word): (word in set(doc)) for word in selected_words}\n",
    "\n",
    "# 시간 단축을 위한 꼼수로 training corpus의 일부만 사용할 수 있음\n",
    "train_docs_df = train_docs[:10000]\n",
    "\n",
    "train_xy = [(term_exists(d), c) for d, c in train_docs_df]\n",
    "test_xy = [(term_exists(d), c) for d, c in train_docs_df]"
   ]
  },
  {
   "cell_type": "code",
   "execution_count": 40,
   "metadata": {
    "collapsed": false
   },
   "outputs": [
    {
     "name": "stdout",
     "output_type": "stream",
     "text": [
      "0.83514\n"
     ]
    }
   ],
   "source": [
    "import nltk.classify.util\n",
    "from nltk.classify import NaiveBayesClassifier\n",
    "\n",
    "classifier = nltk.NaiveBayesClassifier.train( train_xy )\n",
    "print( nltk.classify.accuracy( classifier, test_xy ) )"
   ]
  },
  {
   "cell_type": "code",
   "execution_count": 9,
   "metadata": {
    "collapsed": false
   },
   "outputs": [
    {
     "name": "stdout",
     "output_type": "stream",
     "text": [
      "Most Informative Features\n",
      "         exists(수작/Noun) = True                1 : 0      =     38.0 : 1.0\n",
      "         exists(최악/Noun) = True                0 : 1      =     30.1 : 1.0\n",
      "       exists(♥/Foreign) = True                1 : 0      =     24.5 : 1.0\n",
      "         exists(노잼/Noun) = True                0 : 1      =     22.1 : 1.0\n",
      "         exists(낭비/Noun) = True                0 : 1      =     19.5 : 1.0\n",
      "        exists(쓰레기/Noun) = True                0 : 1      =     19.4 : 1.0\n",
      "         exists(여운/Noun) = True                1 : 0      =     18.9 : 1.0\n",
      "        exists(발연기/Noun) = True                0 : 1      =     16.9 : 1.0\n",
      "          exists(굿/Noun) = True                1 : 0      =     16.9 : 1.0\n",
      "        exists(최고다/Noun) = True                1 : 0      =     15.9 : 1.0\n"
     ]
    }
   ],
   "source": [
    "classifier.show_most_informative_features()"
   ]
  },
  {
   "cell_type": "code",
   "execution_count": 41,
   "metadata": {
    "collapsed": false
   },
   "outputs": [
    {
     "name": "stdout",
     "output_type": "stream",
     "text": [
      "Gulim\n"
     ]
    },
    {
     "data": {
      "image/png": "[encoded data removed]",
      "text/plain": [
       "<matplotlib.figure.Figure at 0x16c5bd1d0>"
      ]
     },
     "metadata": {},
     "output_type": "display_data"
    }
   ],
   "source": [
    "from __future__ import unicode_literals\n",
    "from matplotlib import font_manager, rc\n",
    "font_fname = \"c:\\\\windows\\\\fonts\\\\gulim.ttc\"\n",
    "font_name = font_manager.FontProperties( fname = font_fname ).get_name()\n",
    "print font_name\n",
    "rc( \"font\", family = font_name )\n",
    "rc('text', usetex='false') \n",
    "text.plot(50)"
   ]
  },
  {
   "cell_type": "code",
   "execution_count": 37,
   "metadata": {
    "collapsed": false
   },
   "outputs": [
    {
     "name": "stdout",
     "output_type": "stream",
     "text": [
      "[보이다/Verb,\n",
      " ./Punctuation,\n",
      " 쭉쭉/Noun,\n",
      " 가보다/Verb]\n"
     ]
    },
    {
     "data": {
      "text/plain": [
       "u'1'"
      ]
     },
     "execution_count": 37,
     "metadata": {},
     "output_type": "execute_result"
    }
   ],
   "source": [
    "test_sent = u\"세력들 장중조정 잘하고 있네요 세력들에게 물량 뺏기지 마시고 잘들 끝가지 홀딩해서 다같이 대박납시다.\"\n",
    "test_sent = u\"보인다. 쭉쭉가보자\"\n",
    "t = tokenize( test_sent )\n",
    "pprint( t )\n",
    "t = term_exists( t )\n",
    "tt = classifier.classify( t )\n",
    "tt"
   ]
  },
  {
   "cell_type": "code",
   "execution_count": 43,
   "metadata": {
    "collapsed": false
   },
   "outputs": [],
   "source": [
    "from sklearn.svm import LinearSVC\n",
    "from nltk.classify.scikitlearn import SklearnClassifier\n",
    "classifier1 = SklearnClassifier( LinearSVC() )\n",
    "cfr = classifier1.train( train_xy )"
   ]
  },
  {
   "cell_type": "code",
   "execution_count": 44,
   "metadata": {
    "collapsed": false
   },
   "outputs": [
    {
     "name": "stdout",
     "output_type": "stream",
     "text": [
      "0.83612\n"
     ]
    }
   ],
   "source": [
    "print( nltk.classify.accuracy( cfr, test_xy ) )"
   ]
  },
  {
   "cell_type": "code",
   "execution_count": 24,
   "metadata": {
    "collapsed": false
   },
   "outputs": [
    {
     "data": {
      "text/plain": [
       "u'1'"
      ]
     },
     "execution_count": 24,
     "metadata": {},
     "output_type": "execute_result"
    }
   ],
   "source": [
    "cfr.classify( t )"
   ]
  },
  {
   "cell_type": "code",
   "execution_count": 45,
   "metadata": {
    "collapsed": false
   },
   "outputs": [],
   "source": [
    "from sklearn.feature_extraction.text import TfidfTransformer\n",
    "from sklearn.feature_selection import SelectKBest, chi2\n",
    "from sklearn.naive_bayes import MultinomialNB\n",
    "from sklearn.pipeline import Pipeline\n",
    "pipeline = Pipeline( [ ( 'tfidf', TfidfTransformer() ), \\\n",
    "                     #( 'chi2', SelectKBest( chi2, k = 2000 ) ), \\\n",
    "                     ( 'nb', MultinomialNB() ) ] )\n",
    "pipe_classifer = SklearnClassifier( pipeline )\n",
    "pcfr = pipe_classifer.train( train_xy )"
   ]
  },
  {
   "cell_type": "code",
   "execution_count": 46,
   "metadata": {
    "collapsed": false
   },
   "outputs": [
    {
     "name": "stdout",
     "output_type": "stream",
     "text": [
      "0.83624\n"
     ]
    }
   ],
   "source": [
    "print( nltk.classify.accuracy( pcfr, test_xy ) )"
   ]
  },
  {
   "cell_type": "code",
   "execution_count": 33,
   "metadata": {
    "collapsed": false
   },
   "outputs": [
    {
     "data": {
      "text/plain": [
       "u'1'"
      ]
     },
     "execution_count": 33,
     "metadata": {},
     "output_type": "execute_result"
    }
   ],
   "source": [
    "pcfr.classify( t )"
   ]
  },
  {
   "cell_type": "code",
   "execution_count": 32,
   "metadata": {
    "collapsed": false
   },
   "outputs": [
    {
     "name": "stdout",
     "output_type": "stream",
     "text": [
      "1064264 1130272 2194536\n"
     ]
    }
   ],
   "source": [
    "import collections, itertools\n",
    "import nltk.classify.util, nltk.metrics\n",
    "from nltk.classify import NaiveBayesClassifier\n",
    "from nltk.collocations import BigramCollocationFinder\n",
    "from nltk.metrics import BigramAssocMeasures\n",
    "from nltk.probability import FreqDist, ConditionalFreqDist\n",
    "\n",
    "word_fd = FreqDist()\n",
    "label_word_fd = ConditionalFreqDist()\n",
    "\n",
    "for word in train_docs_pos:\n",
    "    for w in word[0]:\n",
    "        word_fd[ w ] += 1\n",
    "        label_word_fd[ 'pos' ][ w ] += 1\n",
    "    \n",
    "for word in train_docs_neg:\n",
    "    for w in word[0]:\n",
    "        word_fd[ w ] += 1\n",
    "        label_word_fd[ 'neg' ][ w ] += 1\n",
    "    \n",
    "pos_word_count = label_word_fd[ 'pos' ].N()\n",
    "neg_word_count = label_word_fd[ 'neg' ].N()\n",
    "total_word_count = pos_word_count + neg_word_count\n",
    "\n",
    "print pos_word_count, neg_word_count, total_word_count\n",
    "\n",
    "word_scores = {}\n",
    "\n",
    "for word, freq in word_fd.items():\n",
    "    pos_score = BigramAssocMeasures.chi_sq( label_word_fd['pos'][word], \\\n",
    "                                           ( freq, pos_word_count ), total_word_count )\n",
    "    neg_score = BigramAssocMeasures.chi_sq( label_word_fd['neg'][word], \\\n",
    "                                          ( freq, neg_word_count ), total_word_count )\n",
    "    word_scores[ word ] = pos_score + neg_score\n",
    "    \n",
    "best = sorted( word_scores.iteritems(), key = lambda( w, s ): s, reverse = True )[ : 30000 ]\n",
    "bestwords = set( [ w for w, s in best ] )\n",
    "\n",
    "def best_word_feats( words ):\n",
    "    return dict( [ ( word, True ) for word in words if word in bestwords ] )\n",
    "\n",
    "def best_bigram_word_feats( words, score_fn = BigramAssocMeasures.chi_sq, n = 2000 ):\n",
    "    bigram_finder = BigramCollocationFinder.from_words( words )\n",
    "    bigrams = bigram_finder.nbest( score_fn, n )\n",
    "    d = dict( [ ( bigram, True ) for bigram in bigrams ] )\n",
    "    d.update( best_word_feats( words ) )\n",
    "    return d"
   ]
  },
  {
   "cell_type": "code",
   "execution_count": 36,
   "metadata": {
    "collapsed": false
   },
   "outputs": [
    {
     "name": "stdout",
     "output_type": "stream",
     "text": [
      "Accuracy: 0.83514\n",
      "Most Informative Features\n",
      "                 최악/Noun = True                0 : 1      =     68.1 : 1.0\n",
      "               ♥/Foreign = True                1 : 0      =     64.2 : 1.0\n",
      "                 낚였/Noun = True                0 : 1      =     51.4 : 1.0\n",
      "                 이도/Noun = True                0 : 1      =     50.1 : 1.0\n",
      "                 반개/Noun = True                0 : 1      =     41.2 : 1.0\n",
      "                 빵점/Noun = True                0 : 1      =     40.2 : 1.0\n",
      "              Good/Alpha = True                1 : 0      =     35.8 : 1.0\n",
      "                 낭비/Noun = True                0 : 1      =     35.8 : 1.0\n",
      "                 노잼/Noun = True                0 : 1      =     35.2 : 1.0\n",
      "               울컥/Adverb = True                1 : 0      =     34.5 : 1.0\n"
     ]
    }
   ],
   "source": [
    "train_docs1 = train_docs[:100000]\n",
    "\n",
    "train_xy = [(best_word_feats(d), c) for d, c in train_docs1]\n",
    "test_xy = [(best_word_feats(d), c) for d, c in test_docs]\n",
    "\n",
    "classifier = nltk.NaiveBayesClassifier.train( train_xy )\n",
    "print u\"Accuracy: {}\".format( nltk.classify.accuracy( classifier, test_xy )  )  \n",
    "classifier.show_most_informative_features()"
   ]
  },
  {
   "cell_type": "code",
   "execution_count": 47,
   "metadata": {
    "collapsed": false
   },
   "outputs": [
    {
     "name": "stdout",
     "output_type": "stream",
     "text": [
      "Accuracy: 0.83624\n"
     ]
    }
   ],
   "source": [
    "pcfr = pipe_classifer.train( train_xy )\n",
    "print u\"Accuracy: {}\".format( nltk.classify.accuracy( pcfr, test_xy )  )  "
   ]
  },
  {
   "cell_type": "code",
   "execution_count": 114,
   "metadata": {
    "collapsed": false
   },
   "outputs": [
    {
     "name": "stdout",
     "output_type": "stream",
     "text": [
      "[영화/Noun, 재미있다/Adjective]\n"
     ]
    },
    {
     "data": {
      "text/plain": [
       "u'1'"
      ]
     },
     "execution_count": 114,
     "metadata": {},
     "output_type": "execute_result"
    }
   ],
   "source": [
    "test_sent = u\"영화  재미있네\"\n",
    "t = tokenize( test_sent )\n",
    "pprint( t )\n",
    "t = best_word_feats( t )\n",
    "tt = classifier.classify( t )\n",
    "tt"
   ]
  }
 ],
 "metadata": {
  "anaconda-cloud": {},
  "kernelspec": {
   "display_name": "Python [default]",
   "language": "python",
   "name": "python2"
  },
  "language_info": {
   "codemirror_mode": {
    "name": "ipython",
    "version": 2
   },
   "file_extension": ".py",
   "mimetype": "text/x-python",
   "name": "python",
   "nbconvert_exporter": "python",
   "pygments_lexer": "ipython2",
   "version": "2.7.12"
  }
 },
 "nbformat": 4,
 "nbformat_minor": 1
}
